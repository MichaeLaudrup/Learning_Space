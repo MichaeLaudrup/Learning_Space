{
 "cells": [
  {
   "cell_type": "markdown",
   "id": "93db1d78",
   "metadata": {},
   "source": [
    "# Versiones de paquetes en nuestro entorno\n",
    "El código proporcionado a continuación sirve para examinar y mostrar las versiones de ciertos paquetes de Python instalados en nuestro entorno, lo cual es útil para garantizar que estemos trabajando con las versiones correctas y compatibles de las bibliotecas. Se especifica una lista de paquetes a examinar, y luego se utiliza el módulo pkg_resources para iterar sobre los paquetes instalados y recolectar los nombres y versiones de los paquetes de interés. Esta información se organiza en un DataFrame de Pandas, que luego se convierte a una tabla HTML para una visualización clara y ordenada dentro de un entorno Jupyter Notebook. Esta tabla facilita la verificación rápida de las versiones de los paquetes, ayudando a evitar posibles incompatibilidades o errores que podrían surgir de versiones incorrectas de las bibliotecas."
   ]
  },
  {
   "cell_type": "code",
   "execution_count": null,
   "id": "388155d8",
   "metadata": {},
   "outputs": [],
   "source": [
    "import pkg_resources\n",
    "import pandas as pd\n",
    "from IPython.display import display, HTML\n",
    "\n",
    "paquetes_a_examinar = ['langchain', 'pandas'] # <- Aqui poner paquetes que queremos saber version\n",
    "\n",
    "def generar_tabla():\n",
    "    # Obtener la lista de paquetes instalados\n",
    "    paquetes_instalados = [(d.project_name, d.version) for d in pkg_resources.working_set if d.project_name in paquetes_a_examinar ]\n",
    "    # Crear un DataFrame con los datos\n",
    "    df = pd.DataFrame(paquetes_instalados, columns=[\"Nombre_Paquete\", \"Versión\"])\n",
    "    # Convertir el DataFrame a HTML\n",
    "    tabla_html = df.to_html(index=False)\n",
    "    # Mostrar la tabla en un entorno Jupyter Notebook\n",
    "    display(HTML(tabla_html))\n",
    "\n",
    "# Llamar a la función\n",
    "generar_tabla()"
   ]
  }
 ],
 "metadata": {
  "kernelspec": {
   "display_name": "Python 3 (ipykernel)",
   "language": "python",
   "name": "python3"
  },
  "language_info": {
   "codemirror_mode": {
    "name": "ipython",
    "version": 3
   },
   "file_extension": ".py",
   "mimetype": "text/x-python",
   "name": "python",
   "nbconvert_exporter": "python",
   "pygments_lexer": "ipython3",
   "version": "3.11.4"
  }
 },
 "nbformat": 4,
 "nbformat_minor": 5
}
