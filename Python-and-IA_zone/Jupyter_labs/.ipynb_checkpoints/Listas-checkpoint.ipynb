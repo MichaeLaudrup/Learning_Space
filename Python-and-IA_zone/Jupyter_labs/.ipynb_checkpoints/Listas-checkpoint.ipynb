{
 "cells": [
  {
   "cell_type": "code",
   "execution_count": 22,
   "id": "2440e4d5",
   "metadata": {},
   "outputs": [
    {
     "data": {
      "text/plain": [
       "[8, 50, 24, 77, 59, 6, 41, 73, 42, 52, 71, 76, 26, 81, 23, 55, 20, 99, 25]"
      ]
     },
     "execution_count": 22,
     "metadata": {},
     "output_type": "execute_result"
    }
   ],
   "source": [
    "import random\n",
    "numeros_enteros = [random.randint(1, 100) for _ in range(19)]\n",
    "numeros_enteros"
   ]
  },
  {
   "cell_type": "code",
   "execution_count": 23,
   "id": "cfcabcd5",
   "metadata": {
    "scrolled": true
   },
   "outputs": [
    {
     "data": {
      "text/plain": [
       "19"
      ]
     },
     "execution_count": 23,
     "metadata": {},
     "output_type": "execute_result"
    }
   ],
   "source": [
    "len(numeros_enteros) #obtener numero de elementos de lista"
   ]
  },
  {
   "cell_type": "code",
   "execution_count": 24,
   "id": "4516c2f0",
   "metadata": {},
   "outputs": [],
   "source": [
    "numeros_enteros.append(15) # insertar nuevo elemento en el final de la lista"
   ]
  },
  {
   "cell_type": "code",
   "execution_count": 31,
   "id": "dcff9c40",
   "metadata": {},
   "outputs": [
    {
     "data": {
      "text/plain": [
       "8"
      ]
     },
     "execution_count": 31,
     "metadata": {},
     "output_type": "execute_result"
    }
   ],
   "source": [
    "numeros_enteros[0] #acceder a primera posicion"
   ]
  },
  {
   "cell_type": "code",
   "execution_count": 34,
   "id": "cac28d96",
   "metadata": {},
   "outputs": [
    {
     "name": "stdout",
     "output_type": "stream",
     "text": [
      "Ultima posicion 15\n"
     ]
    },
    {
     "data": {
      "text/plain": [
       "[55, 20, 99, 25]"
      ]
     },
     "execution_count": 34,
     "metadata": {},
     "output_type": "execute_result"
    }
   ],
   "source": [
    "#podemos especificar con numeros negativos posiciones que empiecen\n",
    "# a contar de derecha a izquierda, por ejemplo:\n",
    "print('Ultima posicion', numeros_enteros[-1]) #acceder a ultima posicion\n",
    "# desde la posicion 5 contando de derecha a izquierda hasta la posicion 1 contando de derecha izquierda\n",
    "numeros_enteros[-5: -1] "
   ]
  },
  {
   "cell_type": "code",
   "execution_count": 27,
   "id": "91a127c9",
   "metadata": {},
   "outputs": [
    {
     "data": {
      "text/plain": [
       "[8, 50, 24, 77, 59, 6, 41, 73, 42, 52, 71, 76, 26, 81, 23, 55, 20, 99, 25, 15]"
      ]
     },
     "execution_count": 27,
     "metadata": {},
     "output_type": "execute_result"
    }
   ],
   "source": [
    "# obtener todo el array\n",
    "# si no se especifica numeros entiende que es cero primera posicion y len(numeros_enteros) para ultima\n",
    "numeros_enteros[:]"
   ]
  },
  {
   "cell_type": "code",
   "execution_count": 28,
   "id": "fa515b2f",
   "metadata": {},
   "outputs": [
    {
     "data": {
      "text/plain": [
       "[8, 50, 24, 77, 59, 6, 41, 73, 42, 52]"
      ]
     },
     "execution_count": 28,
     "metadata": {},
     "output_type": "execute_result"
    }
   ],
   "source": [
    "posicion_inicial = 0\n",
    "posicion_final = 10\n",
    "#Tener en cuenta que la ultima posicion 10 no la incluye, sino que devuelve de 0 a 9\n",
    "numeros_enteros[posicion_inicial: posicion_final]"
   ]
  },
  {
   "cell_type": "code",
   "execution_count": 29,
   "id": "c52f99fa",
   "metadata": {},
   "outputs": [
    {
     "data": {
      "text/plain": [
       "[71, 76, 26, 81, 23, 55, 20, 99, 25, 15]"
      ]
     },
     "execution_count": 29,
     "metadata": {},
     "output_type": "execute_result"
    }
   ],
   "source": [
    "#devuelveme todos los elementos a partir de la posicion 10\n",
    "#nuevamente al no especificar el termino que va despues de ':'\n",
    "# se sobreentiende que queremos la ultima posicion\n",
    "numeros_enteros[10:] "
   ]
  },
  {
   "cell_type": "code",
   "execution_count": 30,
   "id": "22803bc3",
   "metadata": {},
   "outputs": [],
   "source": [
    "\n"
   ]
  },
  {
   "cell_type": "code",
   "execution_count": null,
   "id": "279ed43f",
   "metadata": {},
   "outputs": [],
   "source": []
  }
 ],
 "metadata": {
  "kernelspec": {
   "display_name": "Python 3 (ipykernel)",
   "language": "python",
   "name": "python3"
  },
  "language_info": {
   "codemirror_mode": {
    "name": "ipython",
    "version": 3
   },
   "file_extension": ".py",
   "mimetype": "text/x-python",
   "name": "python",
   "nbconvert_exporter": "python",
   "pygments_lexer": "ipython3",
   "version": "3.11.4"
  }
 },
 "nbformat": 4,
 "nbformat_minor": 5
}
