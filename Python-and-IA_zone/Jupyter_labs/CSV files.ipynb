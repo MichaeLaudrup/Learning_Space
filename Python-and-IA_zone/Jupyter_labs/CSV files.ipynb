{
 "cells": [
  {
   "cell_type": "code",
   "execution_count": 33,
   "id": "a47a4b03",
   "metadata": {},
   "outputs": [
    {
     "name": "stdout",
     "output_type": "stream",
     "text": [
      "Las cabeceras de las columnas son: dict_keys(['', 'manufacturer', 'model', 'displ', 'year', 'cyl', 'trans', 'drv', 'cty', 'hwy', 'fl', 'class'])\n"
     ]
    },
    {
     "data": {
      "text/plain": [
       "[{'': '1',\n",
       "  'manufacturer': 'audi',\n",
       "  'model': 'a4',\n",
       "  'displ': '1.8',\n",
       "  'year': '1999',\n",
       "  'cyl': '4',\n",
       "  'trans': 'auto(l5)',\n",
       "  'drv': 'f',\n",
       "  'cty': '18',\n",
       "  'hwy': '29',\n",
       "  'fl': 'p',\n",
       "  'class': 'compact'},\n",
       " {'': '2',\n",
       "  'manufacturer': 'audi',\n",
       "  'model': 'a4',\n",
       "  'displ': '1.8',\n",
       "  'year': '1999',\n",
       "  'cyl': '4',\n",
       "  'trans': 'manual(m5)',\n",
       "  'drv': 'f',\n",
       "  'cty': '21',\n",
       "  'hwy': '29',\n",
       "  'fl': 'p',\n",
       "  'class': 'compact'},\n",
       " {'': '3',\n",
       "  'manufacturer': 'audi',\n",
       "  'model': 'a4',\n",
       "  'displ': '2',\n",
       "  'year': '2008',\n",
       "  'cyl': '4',\n",
       "  'trans': 'manual(m6)',\n",
       "  'drv': 'f',\n",
       "  'cty': '20',\n",
       "  'hwy': '31',\n",
       "  'fl': 'p',\n",
       "  'class': 'compact'}]"
      ]
     },
     "execution_count": 33,
     "metadata": {},
     "output_type": "execute_result"
    }
   ],
   "source": [
    "# Importamos la libreria csv para manejar mas facilmente\n",
    "# archivos de tipo csv\n",
    "import csv \n",
    "\n",
    "#Esto es una funcion magica que establece todo los valores de salidad\n",
    "# de numeros en punto flotante con dos decimales de precision\n",
    "# SOLO ESTA DISPONIBLE EN IPython\n",
    "%precision 2\n",
    "\n",
    "#Abrimos en modo lectura el archivo especificado y le asignamos un\n",
    "# alias igual a 'csvfile'\n",
    "# El bloque with se utiliza en Python para asegurarse de que ciertos\n",
    "# recursos se gestionen adecuadamente, como archivos, conexiones de red \n",
    "# o bases de datos. Proporciona una forma más limpia y segura de trabajar\n",
    "# con estos recursos, ya que se encarga automáticamente de las tareas de \n",
    "# apertura y cierre, incluso si ocurren excepciones durante la ejecución\n",
    "# del código.\n",
    "with open('data/mpg.csv') as csvfile:\n",
    "    # El metodo de la librería csv DictReader nos devuelve una instancia\n",
    "    # del objeto DictReader que consiste en una secuencia de diccionarios,\n",
    "    # un diccionario por cada fila del archivo csv donde cada diccionario, tiene\n",
    "    # como clave el encabezado de columna y como valor el valor de esa fila en esa \n",
    "    # columna\n",
    "    objetoDictReader = csv.DictReader(csvfile)\n",
    "    \n",
    "    #se puede iterar en cada fila de datos de DictReader\n",
    "    #for filaDatos in objetoDictReader:\n",
    "         #print(filaDatos)\n",
    "    # En esta linea se transforma la secuencia customizada de DictReader\n",
    "    # en una secuencia mas general en python de tipo \"list\"\n",
    "    mpg = list(objetoDictReader)\n",
    "\n",
    "#Para obtener los nombres de las columnas basta con invocar una de las filas \n",
    "# y obtener las keys\n",
    "print(f\"Las cabeceras de las columnas son: {mpg[0].keys()}\")\n",
    "    \n",
    "mpg[0:3] #obtener desde la posicion 0 hasta la (3 -1 = 2) los diccionarios"
   ]
  },
  {
   "cell_type": "code",
   "execution_count": 28,
   "id": "887772f9",
   "metadata": {},
   "outputs": [
    {
     "data": {
      "text/plain": [
       "16.86"
      ]
     },
     "execution_count": 28,
     "metadata": {},
     "output_type": "execute_result"
    }
   ],
   "source": [
    "\n",
    "#Utilizamos tecnica de lista por comprension para extraer todos los valores de la columna cty\n",
    "columna_cty_extraida_en_forma_de_lista = [float(filaCsv['cty']) for filaCsv in mpg]\n",
    "\n",
    "suma_todos_elementos_lista = sum(columna_cty_extraida_en_forma_de_lista)\n",
    "media = suma_todos_elementos_lista / len(columna_cty_extraida_en_forma_de_lista)\n",
    "\n",
    "media"
   ]
  },
  {
   "cell_type": "code",
   "execution_count": 29,
   "id": "37930cd1",
   "metadata": {},
   "outputs": [
    {
     "name": "stdout",
     "output_type": "stream",
     "text": [
      "Las clases de vehiculos que hay son: {'midsize', 'subcompact', 'suv', 'pickup', 'compact', '2seater', 'minivan'}\n"
     ]
    },
    {
     "data": {
      "text/plain": [
       "{'midsize': {'count': 0, 'suma': 0},\n",
       " 'subcompact': {'count': 0, 'suma': 0},\n",
       " 'suv': {'count': 0, 'suma': 0},\n",
       " 'pickup': {'count': 0, 'suma': 0},\n",
       " 'compact': {'count': 0, 'suma': 0},\n",
       " '2seater': {'count': 0, 'suma': 0},\n",
       " 'minivan': {'count': 0, 'suma': 0}}"
      ]
     },
     "execution_count": 29,
     "metadata": {},
     "output_type": "execute_result"
    }
   ],
   "source": [
    "# Obtener la media que se gasta de fuel segun la clase de vehiculos\n",
    "clasesDeVehiculos = set(vehicle['class'] for vehicle in mpg)\n",
    "print(f'Las clases de vehiculos que hay son: {clasesDeVehiculos}')\n",
    "mapaContadorPorClase = { clase: { 'count': 0, 'suma': 0 } for clase in clasesDeVehiculos}\n",
    "mapaContadorPorClase"
   ]
  },
  {
   "cell_type": "code",
   "execution_count": 30,
   "id": "e886efb0",
   "metadata": {},
   "outputs": [
    {
     "data": {
      "text/plain": [
       "{'midsize': {'count': 41, 'suma': 1119.00},\n",
       " 'subcompact': {'count': 35, 'suma': 985.00},\n",
       " 'suv': {'count': 62, 'suma': 1124.00},\n",
       " 'pickup': {'count': 33, 'suma': 557.00},\n",
       " 'compact': {'count': 47, 'suma': 1330.00},\n",
       " '2seater': {'count': 5, 'suma': 124.00},\n",
       " 'minivan': {'count': 11, 'suma': 246.00}}"
      ]
     },
     "execution_count": 30,
     "metadata": {},
     "output_type": "execute_result"
    }
   ],
   "source": [
    "for fila in mpg:\n",
    "    mapaContadorPorClase[fila['class']]['count'] += 1\n",
    "    mapaContadorPorClase[fila['class']]['suma'] += float(fila['hwy'])\n",
    "    \n",
    "mapaContadorPorClase\n",
    "    "
   ]
  },
  {
   "cell_type": "code",
   "execution_count": 34,
   "id": "71c00dbf",
   "metadata": {},
   "outputs": [
    {
     "name": "stdout",
     "output_type": "stream",
     "text": [
      "La clase midsize tiene una media de: 27.29268292682927\n",
      "La clase subcompact tiene una media de: 28.142857142857142\n",
      "La clase suv tiene una media de: 18.129032258064516\n",
      "La clase pickup tiene una media de: 16.87878787878788\n",
      "La clase compact tiene una media de: 28.29787234042553\n",
      "La clase 2seater tiene una media de: 24.8\n",
      "La clase minivan tiene una media de: 22.363636363636363\n"
     ]
    }
   ],
   "source": [
    "for clase in mapaContadorPorClase:\n",
    "    print(f\"La clase {clase} tiene una media de: {mapaContadorPorClase[clase]['suma'] / mapaContadorPorClase[clase]['count']}\")"
   ]
  },
  {
   "cell_type": "code",
   "execution_count": null,
   "id": "f0846a2a",
   "metadata": {},
   "outputs": [],
   "source": []
  },
  {
   "cell_type": "code",
   "execution_count": null,
   "id": "75d7bb50",
   "metadata": {},
   "outputs": [],
   "source": []
  },
  {
   "cell_type": "code",
   "execution_count": null,
   "id": "42bbcb1a",
   "metadata": {},
   "outputs": [],
   "source": []
  },
  {
   "cell_type": "code",
   "execution_count": null,
   "id": "f34ca0f0",
   "metadata": {},
   "outputs": [],
   "source": []
  }
 ],
 "metadata": {
  "kernelspec": {
   "display_name": "Python 3 (ipykernel)",
   "language": "python",
   "name": "python3"
  },
  "language_info": {
   "codemirror_mode": {
    "name": "ipython",
    "version": 3
   },
   "file_extension": ".py",
   "mimetype": "text/x-python",
   "name": "python",
   "nbconvert_exporter": "python",
   "pygments_lexer": "ipython3",
   "version": "3.11.4"
  }
 },
 "nbformat": 4,
 "nbformat_minor": 5
}
