{
 "cells": [
  {
   "cell_type": "code",
   "execution_count": 1,
   "id": "93c4590b",
   "metadata": {},
   "outputs": [],
   "source": [
    "# STRINGS\n",
    "# Python 3 usa por defecto UTF (Unicode transoformation format)"
   ]
  },
  {
   "cell_type": "code",
   "execution_count": 8,
   "id": "d1b14299",
   "metadata": {},
   "outputs": [],
   "source": [
    "persona = {\n",
    "    'nombre': 'Michael',\n",
    "    'cumpleaños': '26/07/1994',\n",
    "    'estatura': 1.79,\n",
    "    'peso': 80.0\n",
    "}"
   ]
  },
  {
   "cell_type": "code",
   "execution_count": 9,
   "id": "c70bff04",
   "metadata": {},
   "outputs": [
    {
     "data": {
      "text/plain": [
       "'26/07/1994'"
      ]
     },
     "execution_count": 9,
     "metadata": {},
     "output_type": "execute_result"
    }
   ],
   "source": [
    "#Como vemos en este caso, podemos usar la 'ñ' como letra aunque \n",
    "# esta letra no sea del codigo ASCII\n",
    "persona['cumpleaños']"
   ]
  },
  {
   "cell_type": "code",
   "execution_count": 10,
   "id": "59fcf926",
   "metadata": {},
   "outputs": [],
   "source": [
    "#POdemos imprimir de manera formateada de la siguiente forma:"
   ]
  },
  {
   "cell_type": "code",
   "execution_count": 17,
   "id": "c2e5ba5f",
   "metadata": {},
   "outputs": [
    {
     "name": "stdout",
     "output_type": "stream",
     "text": [
      "Michael nacio en la fecha 26/07/1994 y actualmente tiene una estatura de 1.79 cm y pesa 80.0 kg\n",
      "Michael nacio en la fecha 26/07/1994 y actualmente tiene una estatura de 1.79 cm y pesa 80.0 kg\n"
     ]
    }
   ],
   "source": [
    "print(\"{} nacio en la fecha {} y actualmente tiene una estatura de {} cm y pesa {} kg\"\n",
    "        .format(persona['nombre'], persona['cumpleaños'], persona['estatura'], persona['peso']))\n",
    "\n",
    "# Podemos obtener el mismo resultado como sigue, teniendo en cuenta que las \\\n",
    "# solo las usamos para que la linea no quede muy larga, el foco aqui es ver\n",
    "# que podemos usar f\"texto\" en lugar de \"texto\".format() con el mismo proposito\n",
    "print(f\"{persona['nombre']} nacio en la fecha {persona['cumpleaños']} \" \\\n",
    "      f\"y actualmente tiene una estatura de {persona['estatura']} cm\" \\\n",
    "      f\" y pesa {persona['peso']} kg\")"
   ]
  },
  {
   "cell_type": "code",
   "execution_count": 1,
   "id": "4e0199a7",
   "metadata": {},
   "outputs": [
    {
     "data": {
      "text/plain": [
       "1692466314.895606"
      ]
     },
     "execution_count": 1,
     "metadata": {},
     "output_type": "execute_result"
    }
   ],
   "source": [
    "#### DATES Y TIMES\n",
    "import datetime as dt\n",
    "import time as tm\n",
    "\n",
    "# Obtener el número de segundos que han pasado desde el 1 de enero de 1970 hasta ahora\n",
    "tm.time()"
   ]
  },
  {
   "cell_type": "code",
   "execution_count": 2,
   "id": "e2abd6d9",
   "metadata": {},
   "outputs": [
    {
     "data": {
      "text/plain": [
       "datetime.datetime(2023, 8, 19, 19, 33, 16, 229009)"
      ]
     },
     "execution_count": 2,
     "metadata": {},
     "output_type": "execute_result"
    }
   ],
   "source": [
    "dtnow = dt.datetime.fromtimestamp(tm.time())\n",
    "dtnow"
   ]
  },
  {
   "cell_type": "code",
   "execution_count": 3,
   "id": "12e248ee",
   "metadata": {},
   "outputs": [
    {
     "data": {
      "text/plain": [
       "datetime.datetime"
      ]
     },
     "execution_count": 3,
     "metadata": {},
     "output_type": "execute_result"
    }
   ],
   "source": [
    "type(dtnow)"
   ]
  },
  {
   "cell_type": "code",
   "execution_count": 7,
   "id": "543b8528",
   "metadata": {},
   "outputs": [
    {
     "name": "stdout",
     "output_type": "stream",
     "text": [
      "fecha en formato español (dd/mm/yyyy): 19/8/2023\n"
     ]
    }
   ],
   "source": [
    "print(f\"fecha en formato español (dd/mm/yyyy): {dtnow.day}/{dtnow.month}/{dtnow.year}\")"
   ]
  },
  {
   "cell_type": "code",
   "execution_count": 8,
   "id": "5eae7563",
   "metadata": {},
   "outputs": [
    {
     "name": "stdout",
     "output_type": "stream",
     "text": [
      "Fecha actual: 2023-08-19 19:38:02.383718\n",
      "Nueva fecha después de 100 días: 2023-11-27 19:38:02.383718\n"
     ]
    }
   ],
   "source": [
    "# Crear un objeto timedelta con un intervalo de 100 días\n",
    "intervalo = dt.timedelta(days=100)\n",
    "\n",
    "# Obtener la fecha actual\n",
    "fecha_actual = dt.datetime.now()\n",
    "\n",
    "# Sumar el intervalo de tiempo a la fecha actual\n",
    "nueva_fecha = fecha_actual + intervalo\n",
    "\n",
    "print(\"Fecha actual:\", fecha_actual)\n",
    "print(\"Nueva fecha después de 100 días:\", nueva_fecha)"
   ]
  },
  {
   "cell_type": "code",
   "execution_count": null,
   "id": "d2684649",
   "metadata": {},
   "outputs": [],
   "source": []
  },
  {
   "cell_type": "code",
   "execution_count": null,
   "id": "756bf917",
   "metadata": {},
   "outputs": [],
   "source": []
  }
 ],
 "metadata": {
  "kernelspec": {
   "display_name": "Python 3 (ipykernel)",
   "language": "python",
   "name": "python3"
  },
  "language_info": {
   "codemirror_mode": {
    "name": "ipython",
    "version": 3
   },
   "file_extension": ".py",
   "mimetype": "text/x-python",
   "name": "python",
   "nbconvert_exporter": "python",
   "pygments_lexer": "ipython3",
   "version": "3.11.4"
  }
 },
 "nbformat": 4,
 "nbformat_minor": 5
}
