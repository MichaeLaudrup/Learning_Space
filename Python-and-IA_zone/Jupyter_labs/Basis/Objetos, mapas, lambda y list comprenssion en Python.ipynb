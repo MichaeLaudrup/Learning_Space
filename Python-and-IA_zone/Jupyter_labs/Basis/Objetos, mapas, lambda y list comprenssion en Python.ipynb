{
 "cells": [
  {
   "cell_type": "code",
   "execution_count": 14,
   "id": "4b07262f",
   "metadata": {},
   "outputs": [
    {
     "data": {
      "text/plain": [
       "__main__.Person"
      ]
     },
     "execution_count": 14,
     "metadata": {},
     "output_type": "execute_result"
    }
   ],
   "source": [
    "##CLASES En python\n",
    "\n",
    "##Se suelen declarar en CamelCase\n",
    "# en las clases de python no hay modificadores de acceso\n",
    "# No hace falta un constructor explicito\n",
    "class Person:\n",
    "    department = 'School of information'\n",
    "    \n",
    "    def set_name(self, new_name):\n",
    "        self.name = new_name\n",
    "    \n",
    "    def set_location(self, new_location):\n",
    "        self.location = new_location\n",
    "\n",
    "Person"
   ]
  },
  {
   "cell_type": "code",
   "execution_count": 15,
   "id": "28c7bf44",
   "metadata": {},
   "outputs": [
    {
     "name": "stdout",
     "output_type": "stream",
     "text": [
      "Ejemplo con un unico iterable [1, 2, 3, 4, 5, 6, 7, 8, 9, 10]\n",
      "Ejemplo con dos iterables [-1, -1, -1, -1, -1]\n"
     ]
    }
   ],
   "source": [
    "#uso de map() en python:\n",
    "\n",
    "#definimos una funcion\n",
    "def sumar_una_unidad(num, num2 = 1):\n",
    "    return num + num2\n",
    "\n",
    "# La funcion map coje una funcion y tantos iterables como argumentos\n",
    "# tenga la funcion objetivo y te devuelve una clase Map  \n",
    "\n",
    "funcion = sumar_una_unidad\n",
    "secuencia_iterable = [0,1,2,3,4,5,6,7,8,9]\n",
    "\n",
    "print('Ejemplo con un unico iterable', list(map(funcion, secuencia_iterable)))\n",
    "\n",
    "secuencia_iterable_2 = [-1,-2,-3,-4,-5]\n",
    "print('Ejemplo con dos iterables', list(map(funcion, secuencia_iterable, secuencia_iterable_2)))\n",
    "\n"
   ]
  },
  {
   "cell_type": "code",
   "execution_count": 16,
   "id": "3e3b7702",
   "metadata": {},
   "outputs": [
    {
     "data": {
      "text/plain": [
       "[10.0, 11.0, 12.24, 1.55]"
      ]
     },
     "execution_count": 16,
     "metadata": {},
     "output_type": "execute_result"
    }
   ],
   "source": [
    "\n",
    "precios_tienda_1 = [10.00, 11.00, 12.24, 14.55]\n",
    "precios_tienda_2 = [14.00, 16.00, 22.1, 1.55]\n",
    "cheapest = map(min, precios_tienda_1, precios_tienda_2)\n",
    "list(cheapest)"
   ]
  },
  {
   "cell_type": "code",
   "execution_count": 19,
   "id": "ad40d3f0",
   "metadata": {},
   "outputs": [
    {
     "data": {
      "text/plain": [
       "3"
      ]
     },
     "execution_count": 19,
     "metadata": {},
     "output_type": "execute_result"
    }
   ],
   "source": [
    "#Lambda functions\n",
    "mi_funcion_lambda = lambda a, b, c: a + b\n",
    "mi_funcion_lambda(1,2,3)"
   ]
  },
  {
   "cell_type": "code",
   "execution_count": null,
   "id": "794df38a",
   "metadata": {},
   "outputs": [],
   "source": []
  }
 ],
 "metadata": {
  "kernelspec": {
   "display_name": "Python 3 (ipykernel)",
   "language": "python",
   "name": "python3"
  },
  "language_info": {
   "codemirror_mode": {
    "name": "ipython",
    "version": 3
   },
   "file_extension": ".py",
   "mimetype": "text/x-python",
   "name": "python",
   "nbconvert_exporter": "python",
   "pygments_lexer": "ipython3",
   "version": "3.11.4"
  }
 },
 "nbformat": 4,
 "nbformat_minor": 5
}
