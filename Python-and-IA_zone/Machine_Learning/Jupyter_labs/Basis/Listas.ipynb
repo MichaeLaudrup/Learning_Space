{
 "cells": [
  {
   "cell_type": "code",
   "execution_count": 6,
   "id": "49592e0c",
   "metadata": {},
   "outputs": [
    {
     "data": {
      "text/plain": [
       "[33, 28, 5, 38, 17, 67, 74, 92, 17, 88]"
      ]
     },
     "execution_count": 6,
     "metadata": {},
     "output_type": "execute_result"
    }
   ],
   "source": [
    "import random\n",
    "numeros_enteros = [random.randint(1, 100) for _ in range(10)]\n",
    "numeros_enteros"
   ]
  },
  {
   "cell_type": "code",
   "execution_count": 7,
   "id": "e88fd59b",
   "metadata": {
    "scrolled": true
   },
   "outputs": [
    {
     "data": {
      "text/plain": [
       "10"
      ]
     },
     "execution_count": 7,
     "metadata": {},
     "output_type": "execute_result"
    }
   ],
   "source": [
    "len(numeros_enteros) #obtener numero de elementos de lista"
   ]
  },
  {
   "cell_type": "code",
   "execution_count": 8,
   "id": "fef8e83a",
   "metadata": {},
   "outputs": [
    {
     "name": "stdout",
     "output_type": "stream",
     "text": [
      "Primera posicion 33\n",
      "Ultima posicion 88\n",
      "Elemento en la posicion 67\n"
     ]
    }
   ],
   "source": [
    "#### LEER u OBTENER INFORMACION\n",
    "print('Primera posicion', numeros_enteros[0]) # acceder a primera posicion\n",
    "print('Ultima posicion', numeros_enteros[-1]) # acceder a ultima posicion\n",
    "\n",
    "posicion_deseada = 5\n",
    "print('Elemento en la posicion', numeros_enteros[posicion_deseada])"
   ]
  },
  {
   "cell_type": "code",
   "execution_count": 9,
   "id": "00ffe475",
   "metadata": {},
   "outputs": [
    {
     "data": {
      "text/plain": [
       "[33, 28, 5, 38, 17, 67, 74, 92, 17, 88, 20, 15]"
      ]
     },
     "execution_count": 9,
     "metadata": {},
     "output_type": "execute_result"
    }
   ],
   "source": [
    "#### INSERTAR ELEMENTOS INDIVIDUALES\n",
    "numeros_enteros.append(15) # insertar nuevo elemento en el final de la lista\n",
    "\n",
    "indice_donde_deseo_insertar = 10\n",
    "elemento_que_quiero_insertar = 20\n",
    "numeros_enteros.insert(indice_donde_deseo_insertar, elemento_que_quiero_insertar)\n",
    "numeros_enteros"
   ]
  },
  {
   "cell_type": "code",
   "execution_count": 10,
   "id": "19011670",
   "metadata": {},
   "outputs": [
    {
     "name": "stdout",
     "output_type": "stream",
     "text": [
      "Suma con operador +  [33, 28, 5, 38, 17, 67, 74, 92, 17, 88, 20, 15, 1, 2, 3]\n",
      "Extension con metodo .extend()  [33, 28, 5, 38, 17, 67, 74, 92, 17, 88, 20, 15, 1, 2, 3]\n"
     ]
    },
    {
     "data": {
      "text/plain": [
       "[33, 28, 5, 38, 17, 67, 74, 92, 17, 88, 20, 15, 1, 2, 3]"
      ]
     },
     "execution_count": 10,
     "metadata": {},
     "output_type": "execute_result"
    }
   ],
   "source": [
    "#### INSERTAR OTRA LISTA\n",
    "lista_numeros_con_suma_otra_lista = numeros_enteros + [1,2,3]\n",
    "print('Suma con operador + ', lista_numeros_con_suma_otra_lista)\n",
    "\n",
    "#el metodo extend cambia la lista original, es decir, que modifica numeros_enteros\n",
    "lista_numeros_con_extend = numeros_enteros.extend([1,2,3])\n",
    "print('Extension con metodo .extend() ', lista_numeros_con_suma_otra_lista)\n",
    "numeros_enteros"
   ]
  },
  {
   "cell_type": "code",
   "execution_count": 11,
   "id": "40caa069",
   "metadata": {},
   "outputs": [
    {
     "data": {
      "text/plain": [
       "[33, 28, 5, 38, 17, 67, 74, 92, 17, 88]"
      ]
     },
     "execution_count": 11,
     "metadata": {},
     "output_type": "execute_result"
    }
   ],
   "source": [
    "#################### SLICING ########################\n",
    "# Es el slicing consiste en obtener una sub-lista a partir de la lista principal\n",
    "# es aplicable a strings tambien\n",
    "\n",
    "posicion_inicial = 0\n",
    "posicion_final = 10\n",
    "\n",
    "# Tener en cuenta que la ultima posicion 10 no la incluye, sino que devuelve de 0 a 9\n",
    "numeros_enteros[posicion_inicial: posicion_final]"
   ]
  },
  {
   "cell_type": "code",
   "execution_count": 12,
   "id": "5513f13e",
   "metadata": {},
   "outputs": [
    {
     "data": {
      "text/plain": [
       "[20, 15, 1, 2]"
      ]
     },
     "execution_count": 12,
     "metadata": {},
     "output_type": "execute_result"
    }
   ],
   "source": [
    "# podemos especificar con numeros negativos posiciones que empiecen\n",
    "# a contar de derecha a izquierda, por ejemplo:\n",
    "\n",
    "# desde la posicion 5 contando de derecha a izquierda hasta la posicion 1 contando de derecha izquierda\n",
    "numeros_enteros[-5: -1] "
   ]
  },
  {
   "cell_type": "code",
   "execution_count": 13,
   "id": "d43dc388",
   "metadata": {},
   "outputs": [
    {
     "data": {
      "text/plain": [
       "[33, 28, 5, 38, 17, 67, 74, 92, 17, 88, 20, 15, 1, 2, 3]"
      ]
     },
     "execution_count": 13,
     "metadata": {},
     "output_type": "execute_result"
    }
   ],
   "source": [
    "# obtener todo el array\n",
    "# si no se especifica numeros entiende que es cero primera posicion y len(numeros_enteros) para ultima\n",
    "numeros_enteros[:]"
   ]
  },
  {
   "cell_type": "code",
   "execution_count": 14,
   "id": "09580c13",
   "metadata": {},
   "outputs": [
    {
     "data": {
      "text/plain": [
       "[20, 15, 1, 2, 3]"
      ]
     },
     "execution_count": 14,
     "metadata": {},
     "output_type": "execute_result"
    }
   ],
   "source": [
    "#devuelveme todos los elementos a partir de la posicion 10\n",
    "#nuevamente al no especificar el termino que va despues de ':'\n",
    "# se sobreentiende que queremos la ultima posicion\n",
    "numeros_enteros[10:] "
   ]
  },
  {
   "cell_type": "code",
   "execution_count": 30,
   "id": "3698257e",
   "metadata": {},
   "outputs": [],
   "source": [
    "\n"
   ]
  },
  {
   "cell_type": "code",
   "execution_count": null,
   "id": "e5555b74",
   "metadata": {},
   "outputs": [],
   "source": []
  }
 ],
 "metadata": {
  "kernelspec": {
   "display_name": "Python 3 (ipykernel)",
   "language": "python",
   "name": "python3"
  },
  "language_info": {
   "codemirror_mode": {
    "name": "ipython",
    "version": 3
   },
   "file_extension": ".py",
   "mimetype": "text/x-python",
   "name": "python",
   "nbconvert_exporter": "python",
   "pygments_lexer": "ipython3",
   "version": "3.11.4"
  }
 },
 "nbformat": 4,
 "nbformat_minor": 5
}
