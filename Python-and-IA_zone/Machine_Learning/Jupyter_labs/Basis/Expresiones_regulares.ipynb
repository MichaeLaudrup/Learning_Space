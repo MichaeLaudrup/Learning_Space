{
 "cells": [
  {
   "cell_type": "code",
   "execution_count": 1,
   "id": "a290dc2b",
   "metadata": {},
   "outputs": [
    {
     "name": "stdout",
     "output_type": "stream",
     "text": [
      "Se ha encontrado la palabra hermoso en el texto\n"
     ]
    }
   ],
   "source": [
    "import re\n",
    "\n",
    "\n",
    "text = 'Este es un hermoso día'\n",
    "\n",
    "if re.search(\"hermoso\", text):\n",
    "    print(\"Se ha encontrado la palabra hermoso en el texto\")\n",
    "else: \n",
    "    print(\"No se ha encontrado la palabra hermoso en el texto\")"
   ]
  },
  {
   "cell_type": "code",
   "execution_count": 2,
   "id": "a2dac8c4",
   "metadata": {},
   "outputs": [
    {
     "data": {
      "text/plain": [
       "['A ',\n",
       " ' le encanta estudiar, trabajar duro y entrenar, pero tambien a ',\n",
       " ' le gusta salir de fiesta y viajar']"
      ]
     },
     "execution_count": 2,
     "metadata": {},
     "output_type": "execute_result"
    }
   ],
   "source": [
    "# La tokenizacion se refiere al proceso de dividir una cadena de texto en unidades más pequeñas,\n",
    "# llamadas \"tokens\", utilizando patrones definidos por expresiones regulares. Los tokens son \n",
    "# fragmentos significativos de información, como palabras, símbolos o números, que forman el\n",
    "# contenido de la cadena.\n",
    "\n",
    "text = 'A Michael le encanta estudiar, trabajar duro y entrenar, pero tambien a Michael le gusta salir de fiesta y viajar'\n",
    "re.split('Michael', text)"
   ]
  },
  {
   "cell_type": "code",
   "execution_count": 3,
   "id": "c0b4f1a0",
   "metadata": {},
   "outputs": [
    {
     "data": {
      "text/plain": [
       "['Michael', 'Michael']"
      ]
     },
     "execution_count": 3,
     "metadata": {},
     "output_type": "execute_result"
    }
   ],
   "source": [
    "re.findall(\"Michael\", text)"
   ]
  },
  {
   "cell_type": "code",
   "execution_count": 6,
   "id": "91fd519c",
   "metadata": {},
   "outputs": [
    {
     "data": {
      "text/plain": [
       "<re.Match object; span=(0, 3), match='cas'>"
      ]
     },
     "execution_count": 6,
     "metadata": {},
     "output_type": "execute_result"
    }
   ],
   "source": [
    "#Simbolos en expresiones regulares:\n",
    "# ^ Significa comienzo de cadena\n",
    "# & Significa final de cadena.\n",
    "# ^abc indica en la expresion regular que el texto debe empezar por abc\n",
    "# abc$ indica que el texto tiene que acabar con abc\n",
    "\n",
    "# Patrón de expresión regular: [AB]\n",
    "# Esto busca cualquier ocurrencia de las letras A o B en la cadena\n",
    "\n",
    "\n",
    "text = 'case coche caseria caser cascada costilla costa coser cuchillo cuchara cucaracha'\n",
    "re.search('^cas', text)\n",
    "\n",
    "# En este caso, span=(0, 3) significa que la coincidencia \n",
    "# comienza en el índice 0 (primer carácter) y termina\n",
    "# en el índice 3 (cuarto carácter) de la cadena."
   ]
  },
  {
   "cell_type": "code",
   "execution_count": 8,
   "id": "5464588a",
   "metadata": {},
   "outputs": [
    {
     "data": {
      "text/plain": [
       "3"
      ]
     },
     "execution_count": 8,
     "metadata": {},
     "output_type": "execute_result"
    }
   ],
   "source": [
    "grades=\"ACAAAABCBCBAA\"\n",
    "\n",
    "len(re.findall(\"B\", grades))"
   ]
  },
  {
   "cell_type": "code",
   "execution_count": 15,
   "id": "6d58f400",
   "metadata": {},
   "outputs": [
    {
     "data": {
      "text/plain": [
       "['5', '8', '9', '4', '8', '3', '9', '5', '4', '3']"
      ]
     },
     "execution_count": 15,
     "metadata": {},
     "output_type": "execute_result"
    }
   ],
   "source": [
    "pattern = \"[AB]\"\n",
    "\n",
    "# Patrón de expresión regular: [AB]\n",
    "# Esto busca cualquier ocurrencia de las letras A o B en la cadena\n",
    "pattern = \"[AB]\"\n",
    "re.findall(pattern,grades)\n",
    "\n",
    "pattern = \"[0-9]\" #Del cero al 9 es lo mismo que [0123456789]\n",
    "text = 'MI numero de telefono es 5894839543'\n",
    "re.findall(pattern, text)"
   ]
  },
  {
   "cell_type": "code",
   "execution_count": 17,
   "id": "ce68ec5d",
   "metadata": {},
   "outputs": [
    {
     "name": "stdout",
     "output_type": "stream",
     "text": [
      "['AB', 'AB', 'AC']\n"
     ]
    }
   ],
   "source": [
    "texto = \"ABC ABD ACC ADB\"\n",
    "\n",
    "# Patrón: [A][B-C]\n",
    "# El guion es para indicar rango por ejemplo:\n",
    "# 4-9 indica digitos del 4 al 9\n",
    "# A-M indica letras mayusculas de la A a la M\n",
    "# Busca coincidencias donde la cadena contiene 'A' seguido por 'B' o 'C'\n",
    "patron = r'[A][B-C]' # equvalente a poner [A][BC]\n",
    "\n",
    "# Utiliza re.findall() para encontrar todas las coincidencias del patrón en la cadena\n",
    "coincidencias = re.findall(patron, texto)\n",
    "\n",
    "# Imprime las coincidencias encontradas\n",
    "print(coincidencias)  # Salida: ['AB', 'AC']"
   ]
  },
  {
   "cell_type": "markdown",
   "id": "69ea9622",
   "metadata": {},
   "source": [
    "### Apreciar diferencia entre \"Empieza con\" y \"no incluye\""
   ]
  },
  {
   "cell_type": "code",
   "execution_count": 16,
   "id": "e1af50f6",
   "metadata": {},
   "outputs": [
    {
     "name": "stdout",
     "output_type": "stream",
     "text": [
      "Coincidencias que empiezan con 'abc': ['abc']\n",
      "Coincidencias que no incluyen vocales: ['1', '2', '3']\n"
     ]
    }
   ],
   "source": [
    "# Ejemplo 1: Empieza con \"^\"\n",
    "texto1 = \"abc123 def456\"\n",
    "patron_empieza_con = r'^abc'\n",
    "\n",
    "# Utiliza re.findall() para buscar coincidencias que empiezan con \"abc\"\n",
    "coincidencias_empieza_con = re.findall(patron_empieza_con, texto1)\n",
    "\n",
    "# Imprime las coincidencias encontradas\n",
    "print(\"Coincidencias que empiezan con 'abc':\", coincidencias_empieza_con)  # Salida: ['abc']\n",
    "\n",
    "# Ejemplo 2: No incluye \"[^...]\"\n",
    "texto2 = \"aei123\"\n",
    "patron_no_incluye = r'[^aeiou]'\n",
    "\n",
    "# Utiliza re.findall() para buscar coincidencias que no contienen vocales\n",
    "coincidencias_no_incluye = re.findall(patron_no_incluye, texto2)\n",
    "\n",
    "# Imprime las coincidencias encontradas\n",
    "print(\"Coincidencias que no incluyen vocales:\", coincidencias_no_incluye)  # Salida: ['1', '2', '3']"
   ]
  },
  {
   "cell_type": "code",
   "execution_count": 18,
   "id": "dc190568",
   "metadata": {},
   "outputs": [
    {
     "name": "stdout",
     "output_type": "stream",
     "text": [
      "Repeticiones de 'A' entre 2 y 4 veces: ['AAA', 'AAAA', 'AA']\n",
      "Repeticiones exactas de 'A' 3 veces: ['AAA', 'AAA']\n",
      "Al menos 2 repeticiones de 'A': ['AAA', 'AAAAA', 'AA']\n"
     ]
    }
   ],
   "source": [
    "# Ejemplo 1: A{n,m} - Entre n y m repeticiones de 'A'\n",
    "texto1 = \"AAA AAAAA AA\"\n",
    "patron_n_m = r'A{2,4}'  # Busca entre 2 y 4 repeticiones consecutivas de 'A'\n",
    "\n",
    "# Utiliza re.findall() para buscar las repeticiones de 'A' según el patrón\n",
    "repeticiones_encontradas = re.findall(patron_n_m, texto1)\n",
    "\n",
    "# Imprime las repeticiones encontradas\n",
    "print(\"Repeticiones de 'A' entre 2 y 4 veces:\", repeticiones_encontradas)\n",
    "# Salida: ['AAA', 'AA', 'AAA']\n",
    "\n",
    "# Ejemplo 2: A{3} - Exactamente 3 repeticiones de 'A' es similar a A{3,3}\n",
    "texto2 = \"AAA AAAAA AA\"\n",
    "patron_exactamente_3 = r'A{3}'  # Busca exactamente 3 repeticiones consecutivas de 'A'\n",
    "\n",
    "# Utiliza re.findall() para buscar las repeticiones de 'A' según el patrón\n",
    "repeticiones_exactas = re.findall(patron_exactamente_3, texto2)\n",
    "\n",
    "# Imprime las repeticiones encontradas\n",
    "print(\"Repeticiones exactas de 'A' 3 veces:\", repeticiones_exactas)\n",
    "# Salida: ['AAA']\n",
    "\n",
    "# Ejemplo 3: A{2,} - Al menos 2 repeticiones de 'A'\n",
    "texto3 = \"AAA AAAAA AA\"\n",
    "patron_al_menos_2 = r'A{2,}'  # Busca 2 o más repeticiones consecutivas de 'A'\n",
    "\n",
    "# Utiliza re.findall() para buscar las repeticiones de 'A' según el patrón\n",
    "repeticiones_minimo_2 = re.findall(patron_al_menos_2, texto3)\n",
    "\n",
    "# Imprime las repeticiones encontradas\n",
    "print(\"Al menos 2 repeticiones de 'A':\", repeticiones_minimo_2)\n",
    "# Salida: ['AAA', 'AAAA', 'AA']"
   ]
  },
  {
   "cell_type": "code",
   "execution_count": 19,
   "id": "194df3d8",
   "metadata": {},
   "outputs": [
    {
     "data": {
      "text/plain": [
       "'Overview[edit]\\nFERPA gives parents access to their child\\'s education records, an opportunity to seek to have the records amended, and some control over the disclosure of information from the records. With several exceptions, schools must have a student\\'s consent prior to the disclosure of education records after that student is 18 years old. The law applies only to educational agencies and institutions that receive funds under a program administered by the U.S. Department of Education.\\n\\nOther regulations under this act, effective starting January 3, 2012, allow for greater disclosures of personal and directory student identifying information and regulate student IDs and e-mail addresses.[2] For example, schools may provide external companies with a student\\'s personally identifiable information without the student\\'s consent.[2]\\n\\nExamples of situations affected by FERPA include school employees divulging information to anyone other than the student about the student\\'s grades or behavior, and school work posted on a bulletin board with a grade. Generally, schools must have written permission from the parent or eligible student in order to release any information from a student\\'s education record.\\n\\nThis privacy policy also governs how state agencies transmit testing data to federal agencies, such as the Education Data Exchange Network.\\n\\nThis U.S. federal law also gave students 18 years of age or older, or students of any age if enrolled in any post-secondary educational institution, the right of privacy regarding grades, enrollment, and even billing information unless the school has specific permission from the student to share that specific type of information.\\n\\nFERPA also permits a school to disclose personally identifiable information from education records of an \"eligible student\" (a student age 18 or older or enrolled in a postsecondary institution at any age) to his or her parents if the student is a \"dependent student\" as that term is defined in Section 152 of the Internal Revenue Code. Generally, if either parent has claimed the student as a dependent on the parent\\'s most recent income tax statement, the school may non-consensually disclose the student\\'s education records to both parents.[3]\\n\\nThe law allowed students who apply to an educational institution such as graduate school permission to view recommendations submitted by others as part of the application. However, on standard application forms, students are given the option to waive this right.\\n\\nFERPA specifically excludes employees of an educational institution if they are not students.\\n\\nThe act is also referred to as the Buckley Amendment, for one of its proponents, Senator James L. Buckley of New York.\\n\\nAccess to public records[edit]\\nThe citing of FERPA to conceal public records that are not \"educational\" in nature has been widely criticized, including by the act\\'s primary Senate sponsor.[4] For example, in the Owasso Independent School District v. Falvo case, an important part of the debate was determining the relationship between peer-grading and \"education records\" as defined in FERPA. In the Court of Appeals, it was ruled that students placing grades on the work of other students made such work into an \"education record.\" Thus, peer-grading was determined as a violation of FERPA privacy policies because students had access to other students\\' academic performance without full consent.[5] However, when the case went to the Supreme Court, it was officially ruled that peer-grading was not a violation of FERPA. This is because a grade written on a student\\'s work does not become an \"education record\" until the teacher writes the final grade into a grade book.[6]\\n\\nStudent medical records[edit]\\nLegal experts have debated the issue of whether student medical records (for example records of therapy sessions with a therapist at an on-campus counseling center) might be released to the school administration under certain triggering events, such as when a student sued his college or university.[7][8]\\n\\nUsually, student medical treatment records will remain under the protection of FERPA, not the Health Insurance Portability and Accountability Act (HIPAA). This is due to the \"FERPA Exception\" written within HIPAA.[9]'"
      ]
     },
     "execution_count": 19,
     "metadata": {},
     "output_type": "execute_result"
    }
   ],
   "source": [
    "with open(\"data/ferpa.txt\", \"r\") as file:\n",
    "    wiki=file.read()\n",
    "wiki\n",
    "    "
   ]
  },
  {
   "cell_type": "code",
   "execution_count": 29,
   "id": "4bd02191",
   "metadata": {},
   "outputs": [
    {
     "data": {
      "text/plain": [
       "['Overview[edit]', 'records[edit]', 'records[edit]']"
      ]
     },
     "execution_count": 29,
     "metadata": {},
     "output_type": "execute_result"
    }
   ],
   "source": [
    "re.findall('[a-zA-Z]{1,100}\\[edit\\]', wiki)"
   ]
  },
  {
   "cell_type": "code",
   "execution_count": null,
   "id": "a6bebe22",
   "metadata": {},
   "outputs": [],
   "source": [
    "# Cadena de ejemplo\n",
    "texto = \"Hola, ¿cómo estás? Bienvenido al mundo de las expresiones regulares.\"\n",
    "\n",
    "# Metacaracter \".\" - coincide con cualquier carácter excepto una nueva línea\n",
    "patron_punto = r\".o\"  # Busca cualquier carácter seguido de 'o'\n",
    "\n",
    "# Metacaracter \"*\" - coincide con cero o más repeticiones del elemento anterior\n",
    "patron_asterisco = r\"m.*d\"  # Busca 'm' seguido de cualquier cosa y luego 'd'\n",
    "\n",
    "# Metacaracter \"+\" - coincide con una o más repeticiones del elemento anterior\n",
    "patron_mas = r\"e.+s\"  # Busca 'e', al menos un carácter, y luego 's'\n",
    "\n",
    "# Metacaracter \"?\" - coincide con cero o una repetición del elemento anterior\n",
    "patron_interrogacion = r\"cómo?\"  # Busca 'cómo' con una 'ó' opcional\n",
    "\n",
    "# Metacaracter \"{n}\" - coincide con exactamente n repeticiones del elemento anterior\n",
    "patron_exactamente_n = r\"a{2}\"  # Busca dos 'a' consecutivas\n",
    "\n",
    "# Metacaracter \"{n,m}\" - coincide con entre n y m repeticiones del elemento anterior\n",
    "patron_rango = r\"a{1,3}\"  # Busca de una a tres 'a' consecutivas\n",
    "\n",
    "# Utiliza re.findall() para buscar coincidencias según los patrones\n",
    "print(\"Patrón .:\", re.findall(patron_punto, texto))\n",
    "print(\"Patrón *:\", re.findall(patron_asterisco, texto))\n",
    "print(\"Patrón +:\", re.findall(patron_mas, texto))\n",
    "print(\"Patrón ?:\", re.findall(patron_interrogacion, texto))\n",
    "print(\"Patrón {n}:\", re.findall(patron_exactamente_n, texto))\n",
    "print(\"Patrón {n,m}:\", re.findall(patron_rango, texto))"
   ]
  },
  {
   "cell_type": "code",
   "execution_count": 30,
   "id": "7ceca4f5",
   "metadata": {},
   "outputs": [
    {
     "name": "stdout",
     "output_type": "stream",
     "text": [
      "Metacaracter \\w: ['Hola', '123', 'cómo', 'estás', '456', 'Bienvenido', 'al', 'mundo', 'de', 'las', 'expresiones', 'regulares']\n",
      "Metacaracter \\s: [' ', ' ', ' ', ' ', ' ', ' ', ' ', ' ', ' ', ' ', ' ']\n",
      "Metacaracter \\d: ['123', '456']\n"
     ]
    }
   ],
   "source": [
    "# Cadena de ejemplo\n",
    "texto = \"Hola 123, ¿cómo estás? 456 Bienvenido al mundo de las expresiones regulares.\"\n",
    "\n",
    "# Metacaracter \"\\w\" - coincide con cualquier carácter alfanumérico (letras y dígitos)\n",
    "patron_w = r\"\\w+\"  # Busca una o más secuencias de caracteres alfanuméricos\n",
    "\n",
    "# Metacaracter \"\\s\" - coincide con cualquier carácter de espacio en blanco\n",
    "patron_s = r\"\\s\"  # Busca cualquier espacio en blanco\n",
    "\n",
    "# Metacaracter \"\\d\" - coincide con cualquier dígito del 0 al 9\n",
    "patron_d = r\"\\d+\"  # Busca una o más secuencias de dígitos\n",
    "\n",
    "# Utiliza re.findall() para buscar coincidencias según los patrones\n",
    "print(\"Metacaracter \\\\w:\", re.findall(patron_w, texto))\n",
    "print(\"Metacaracter \\\\s:\", re.findall(patron_s, texto))\n",
    "print(\"Metacaracter \\\\d:\", re.findall(patron_d, texto))"
   ]
  },
  {
   "cell_type": "code",
   "execution_count": 33,
   "id": "d87cefa7",
   "metadata": {},
   "outputs": [
    {
     "name": "stdout",
     "output_type": "stream",
     "text": [
      "Número de teléfono completo: 123-456-7890\n",
      "Primer grupo de dígitos: 123\n",
      "Segundo grupo de dígitos: 456\n",
      "Tercer grupo de dígitos: 7890\n",
      "No se encontró una dirección.\n"
     ]
    }
   ],
   "source": [
    "# Cadena de ejemplo\n",
    "texto = \"Mi número de teléfono es 123-456-7890.\"\n",
    "\n",
    "# Patrón con grupo: (\\d{3})-(\\d{3})-(\\d{4})\n",
    "# Busca un número de teléfono en el formato XXX-XXX-XXXX\n",
    "patron_numero_telefono = r\"(\\d{3})-(\\d{3})-(\\d{4})\"\n",
    "\n",
    "# Utiliza re.search() para buscar el patrón y obtener el resultado del grupo\n",
    "resultado = re.search(patron_numero_telefono, texto)\n",
    "\n",
    "if resultado:\n",
    "    # El grupo 0 contiene la coincidencia completa\n",
    "    print(\"Número de teléfono completo:\", resultado.group(0))\n",
    "    \n",
    "    # El grupo 1 contiene el primer grupo de tres dígitos\n",
    "    print(\"Primer grupo de dígitos:\", resultado.group(1))\n",
    "    \n",
    "    # El grupo 2 contiene el segundo grupo de tres dígitos\n",
    "    print(\"Segundo grupo de dígitos:\", resultado.group(2))\n",
    "    \n",
    "    # El grupo 3 contiene el tercer grupo de cuatro dígitos\n",
    "    print(\"Tercer grupo de dígitos:\", resultado.group(3))\n",
    "else:\n",
    "    print(\"No se encontró un número de teléfono.\")\n",
    "    \n",
    "    \n",
    "    # Cadena de ejemplo\n",
    "texto2 = \"Mi dirección es 123 Calle Principal, Ciudad.\"\n",
    "\n",
    "# Patrón con grupos nombrados: (?P<numero>\\d+)\\s(?P<nombre_calle>\\w+)\\s(?P<ciudad>\\w+)\\.\n",
    "# Busca una dirección en el formato \"Número Calle Ciudad.\"\n",
    "patron_direccion = r\"(?P<numero>\\d+)\\s(?P<nombre_calle>\\w+)\\s(?P<ciudad>\\w+)\\.\"\n",
    "\n",
    "# Utiliza re.search() para buscar el patrón y obtener el resultado del grupo nombrado\n",
    "resultado = re.search(patron_direccion, texto2)\n",
    "\n",
    "if resultado:\n",
    "    # Accede a los grupos nombrados utilizando los nombres\n",
    "    print(\"Número:\", resultado.group('numero'))\n",
    "    print(\"Nombre de la calle:\", resultado.group('nombre_calle'))\n",
    "    print(\"Ciudad:\", resultado.group('ciudad'))\n",
    "else:\n",
    "    print(\"No se encontró una dirección.\")"
   ]
  },
  {
   "cell_type": "code",
   "execution_count": null,
   "id": "f30fb8c3",
   "metadata": {},
   "outputs": [],
   "source": []
  }
 ],
 "metadata": {
  "kernelspec": {
   "display_name": "Python 3 (ipykernel)",
   "language": "python",
   "name": "python3"
  },
  "language_info": {
   "codemirror_mode": {
    "name": "ipython",
    "version": 3
   },
   "file_extension": ".py",
   "mimetype": "text/x-python",
   "name": "python",
   "nbconvert_exporter": "python",
   "pygments_lexer": "ipython3",
   "version": "3.11.4"
  }
 },
 "nbformat": 4,
 "nbformat_minor": 5
}
