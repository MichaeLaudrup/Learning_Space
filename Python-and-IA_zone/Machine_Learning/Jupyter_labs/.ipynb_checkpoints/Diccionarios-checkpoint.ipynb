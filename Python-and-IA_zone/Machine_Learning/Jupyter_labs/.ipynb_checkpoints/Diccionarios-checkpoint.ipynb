{
 "cells": [
  {
   "cell_type": "code",
   "execution_count": 1,
   "id": "24d31276",
   "metadata": {},
   "outputs": [
    {
     "name": "stdout",
     "output_type": "stream",
     "text": [
      "{'clave': 'valor', 'nombre': 'Michael', 'edad': 29, 'altura': 1.79, 'estaSoltero': True, 'numerosFavoritos': [12, 1, 24, 64]}\n"
     ]
    }
   ],
   "source": [
    "# Declarar un diccionario tiene la siguiente forma:\n",
    "primerDiccionario = {\n",
    "    'clave':'valor',\n",
    "    'nombre': 'Michael',\n",
    "    'edad': 29,\n",
    "    'altura': 1.79,\n",
    "    'estaSoltero': True,\n",
    "    'numerosFavoritos': [12, 1, 24, 64],    \n",
    "}\n",
    "\n",
    "print(primerDiccionario)"
   ]
  },
  {
   "cell_type": "code",
   "execution_count": 2,
   "id": "c7eab583",
   "metadata": {},
   "outputs": [
    {
     "data": {
      "text/plain": [
       "'Michael'"
      ]
     },
     "execution_count": 2,
     "metadata": {},
     "output_type": "execute_result"
    }
   ],
   "source": [
    "#Para acceder a los valores no se usan indices, si no las claves que hemos \n",
    "# especificado\n",
    "\n",
    "primerDiccionario['nombre']"
   ]
  },
  {
   "cell_type": "code",
   "execution_count": 3,
   "id": "f057d840",
   "metadata": {},
   "outputs": [
    {
     "data": {
      "text/plain": [
       "True"
      ]
     },
     "execution_count": 3,
     "metadata": {},
     "output_type": "execute_result"
    }
   ],
   "source": [
    "primerDiccionario['estaSoltero']"
   ]
  },
  {
   "cell_type": "code",
   "execution_count": 4,
   "id": "e085bae0",
   "metadata": {},
   "outputs": [
    {
     "ename": "KeyError",
     "evalue": "0",
     "output_type": "error",
     "traceback": [
      "\u001b[1;31m---------------------------------------------------------------------------\u001b[0m",
      "\u001b[1;31mKeyError\u001b[0m                                  Traceback (most recent call last)",
      "Cell \u001b[1;32mIn[4], line 1\u001b[0m\n\u001b[1;32m----> 1\u001b[0m primerDiccionario[\u001b[38;5;241m0\u001b[39m]\n",
      "\u001b[1;31mKeyError\u001b[0m: 0"
     ]
    }
   ],
   "source": [
    "primerDiccionario[0]"
   ]
  },
  {
   "cell_type": "code",
   "execution_count": null,
   "id": "f93850f5",
   "metadata": {},
   "outputs": [],
   "source": [
    "# Recorrer llaves  de un diccionario por llave\n",
    "for llave in primerDiccionario:\n",
    "    print(llave)\n"
   ]
  },
  {
   "cell_type": "code",
   "execution_count": 5,
   "id": "c09c525e",
   "metadata": {},
   "outputs": [
    {
     "name": "stdout",
     "output_type": "stream",
     "text": [
      "valor\n",
      "Michael\n",
      "29\n",
      "1.79\n",
      "True\n",
      "[12, 1, 24, 64]\n"
     ]
    }
   ],
   "source": [
    "#recorrer elementos de un diccionario por valores\n",
    "for valor in primerDiccionario.values():\n",
    "    print(valor)"
   ]
  },
  {
   "cell_type": "code",
   "execution_count": 8,
   "id": "404b9ba2",
   "metadata": {},
   "outputs": [
    {
     "name": "stdout",
     "output_type": "stream",
     "text": [
      "clave : valor\n",
      "nombre : Michael\n",
      "edad : 29\n",
      "altura : 1.79\n",
      "estaSoltero : True\n",
      "numerosFavoritos : [12, 1, 24, 64]\n"
     ]
    }
   ],
   "source": [
    "#recorrer diccionario obteniendo tanto llaves como valores\n",
    "for llave, valor in primerDiccionario.items():\n",
    "    print('{} : {}'.format(llave, valor))"
   ]
  },
  {
   "cell_type": "code",
   "execution_count": null,
   "id": "a15ce06d",
   "metadata": {},
   "outputs": [],
   "source": []
  }
 ],
 "metadata": {
  "kernelspec": {
   "display_name": "Python 3 (ipykernel)",
   "language": "python",
   "name": "python3"
  },
  "language_info": {
   "codemirror_mode": {
    "name": "ipython",
    "version": 3
   },
   "file_extension": ".py",
   "mimetype": "text/x-python",
   "name": "python",
   "nbconvert_exporter": "python",
   "pygments_lexer": "ipython3",
   "version": "3.11.4"
  }
 },
 "nbformat": 4,
 "nbformat_minor": 5
}
