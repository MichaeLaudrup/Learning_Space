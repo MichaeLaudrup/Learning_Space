{
 "cells": [
  {
   "cell_type": "markdown",
   "id": "77497e7a",
   "metadata": {},
   "source": [
    "# Scales"
   ]
  },
  {
   "cell_type": "markdown",
   "id": "c578da90",
   "metadata": {},
   "source": [
    "## Categorías (Enumerados de toda la vida)\n",
    "en pandas, el método astype('category') se utiliza para convertir una columna de un DataFrame a tipo categórico. Los tipos categóricos son útiles para representar variables que pueden tomar un número limitado de valores distintos (categorías). Utilizar tipos categóricos en lugar de tipos de texto (como 'object') generalmente mejora el rendimiento y reduce el uso de memoria, especialmente cuando se tiene un conjunto de datos grande con muchas repeticiones de las mismas categorías."
   ]
  },
  {
   "cell_type": "code",
   "execution_count": 5,
   "id": "9b40e74e",
   "metadata": {},
   "outputs": [
    {
     "name": "stdout",
     "output_type": "stream",
     "text": [
      "DataFrame original:\n",
      "     Estudiante Nota\n",
      "0  Estudiante_1   B-\n",
      "1  Estudiante_2   A+\n",
      "2  Estudiante_3   B+\n",
      "3  Estudiante_4   D-\n",
      "4  Estudiante_5   B+\n"
     ]
    }
   ],
   "source": [
    "import pandas as pd\n",
    "import numpy as np\n",
    "\n",
    "# Crear un DataFrame con notas aleatorias para 50 estudiantes\n",
    "np.random.seed(0)  # Para la reproducibilidad\n",
    "notas = np.random.choice(['A+', 'A', 'A-', 'B+', 'B', 'B-', 'C+', 'C', 'C-', 'D+', 'D', 'D-'], size=50)\n",
    "df = pd.DataFrame({\n",
    "    'Estudiante': [f'Estudiante_{i+1}' for i in range(50)],\n",
    "    'Nota': notas\n",
    "})\n",
    "\n",
    "print(\"DataFrame original:\")\n",
    "print(df.head())  # Mostrar las primeras 5 filas\n",
    "\n",
    "# Convertir la columna 'Nota' a tipo categórico\n",
    "df['Nota'] = df['Nota'].astype('category')\n",
    "df.dtypes\n",
    "\n",
    "mis_categorias = pd.CategoricalDtype(\n",
    "    categories=['D-', 'D', 'D+', 'C-', 'C', 'C+', 'B-', 'B', 'B+', 'A-', 'A', 'A+'],\n",
    "    ordered=True\n",
    ")\n",
    "\n",
    "df['Nota'] = df['Nota'].astype(mis_categorias)"
   ]
  },
  {
   "cell_type": "markdown",
   "id": "2e99813e",
   "metadata": {},
   "source": [
    "Importante notar que este orden puesto en la categoria de la columna luego nos servirá para hacer consultas de tipo, dame los alumnos que tenga "
   ]
  },
  {
   "cell_type": "markdown",
   "id": "11e0f856",
   "metadata": {},
   "source": [
    "## Transformar valores continuos en conjuntos discretos\n",
    "\n",
    "La función pd.cut en pandas es una herramienta muy útil para segmentar y clasificar los valores en diferentes contenedores o \"bins\". Esta función se usa a menudo para transformar variables continuas en variables categóricas discretas. Los bins son creados con base en valores que tú especifiques, intervalos o frecuencias."
   ]
  },
  {
   "cell_type": "code",
   "execution_count": 7,
   "id": "2220bb0d",
   "metadata": {},
   "outputs": [
    {
     "name": "stdout",
     "output_type": "stream",
     "text": [
      "    Nota_num Nota_letra\n",
      "0         85          B\n",
      "1         90          A\n",
      "2         77          C\n",
      "3         60          D\n",
      "4         49          F\n",
      "5         73          C\n",
      "6         95          A\n",
      "7         92          A\n",
      "8         88          B\n",
      "9         76          C\n",
      "10        60          D\n",
      "11        74          C\n",
      "12        80          B\n",
      "13        55          F\n",
      "14        98          A\n",
      "15        78          C\n",
      "16        52          F\n",
      "17        91          A\n",
      "18        89          B\n",
      "19        68          D\n",
      "20        76          C\n",
      "21        72          C\n",
      "22        94          A\n",
      "23        79          C\n",
      "24        64          D\n",
      "25        70          C\n",
      "26        85          B\n",
      "27        93          A\n",
      "28        88          B\n",
      "29        66          D\n",
      "30        57          F\n",
      "31        82          B\n",
      "32        81          B\n",
      "33        51          F\n",
      "34        69          D\n",
      "35        78          C\n",
      "36        90          A\n",
      "37        83          B\n",
      "38        77          C\n",
      "39        75          C\n",
      "40        58          F\n",
      "41        94          A\n",
      "42        68          D\n",
      "43        84          B\n",
      "44        64          D\n",
      "45        91          A\n",
      "46        63          D\n",
      "47        70          C\n",
      "48        59          F\n",
      "49        87          B\n"
     ]
    }
   ],
   "source": [
    "\n",
    "import pandas as pd\n",
    "\n",
    "#Datos de ejemplo: notas numéricas de 50 estudiantes\n",
    "notas = [85, 90, 77, 60, 49, 73, 95, 92, 88, 76,\n",
    "         60, 74, 80, 55, 98, 78, 52, 91, 89, 68,\n",
    "         76, 72, 94, 79, 64, 70, 85, 93, 88, 66,\n",
    "         57, 82, 81, 51, 69, 78, 90, 83, 77, 75,\n",
    "         58, 94, 68, 84, 64, 91, 63, 70, 59, 87]\n",
    "\n",
    "df = pd.DataFrame({'Nota_num': notas})\n",
    "\n",
    "# Definir los límites de los bins\n",
    "bins = [0, 59, 69, 79, 89, 100]\n",
    "\n",
    "# Definir las etiquetas para los bins\n",
    "labels = ['F', 'D', 'C', 'B', 'A']\n",
    "\n",
    "# Crear una nueva columna con las categorías\n",
    "df['Nota_letra'] = pd.cut(df['Nota_num'], bins=bins, labels=labels)\n",
    "\n",
    "print(df)\n"
   ]
  },
  {
   "cell_type": "code",
   "execution_count": 8,
   "id": "4a13a575",
   "metadata": {},
   "outputs": [
    {
     "data": {
      "text/plain": [
       "5"
      ]
     },
     "execution_count": 8,
     "metadata": {},
     "output_type": "execute_result"
    }
   ],
   "source": [
    "import pandas as pd\n",
    "(pd.Timestamp('11/29/2019') + pd.offsets.MonthEnd()).weekday()"
   ]
  },
  {
   "cell_type": "code",
   "execution_count": 9,
   "id": "8e2a1ac3",
   "metadata": {},
   "outputs": [
    {
     "data": {
      "text/plain": [
       "Period('2019-06', 'M')"
      ]
     },
     "execution_count": 9,
     "metadata": {},
     "output_type": "execute_result"
    }
   ],
   "source": [
    "import pandas as pd\n",
    "pd.Period('01/12/2019', 'M') + 5"
   ]
  },
  {
   "cell_type": "code",
   "execution_count": null,
   "id": "bb56975d",
   "metadata": {},
   "outputs": [],
   "source": []
  }
 ],
 "metadata": {
  "kernelspec": {
   "display_name": "Python 3 (ipykernel)",
   "language": "python",
   "name": "python3"
  },
  "language_info": {
   "codemirror_mode": {
    "name": "ipython",
    "version": 3
   },
   "file_extension": ".py",
   "mimetype": "text/x-python",
   "name": "python",
   "nbconvert_exporter": "python",
   "pygments_lexer": "ipython3",
   "version": "3.11.4"
  }
 },
 "nbformat": 4,
 "nbformat_minor": 5
}
