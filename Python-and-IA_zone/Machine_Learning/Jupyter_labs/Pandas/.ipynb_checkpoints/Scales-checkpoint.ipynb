{
 "cells": [
  {
   "cell_type": "markdown",
   "id": "1ebb1608",
   "metadata": {},
   "source": [
    "# Scales"
   ]
  },
  {
   "cell_type": "markdown",
   "id": "7756a667",
   "metadata": {},
   "source": [
    "## Categorías (Enumerados de toda la vida)\n",
    "en pandas, el método astype('category') se utiliza para convertir una columna de un DataFrame a tipo categórico. Los tipos categóricos son útiles para representar variables que pueden tomar un número limitado de valores distintos (categorías). Utilizar tipos categóricos en lugar de tipos de texto (como 'object') generalmente mejora el rendimiento y reduce el uso de memoria, especialmente cuando se tiene un conjunto de datos grande con muchas repeticiones de las mismas categorías."
   ]
  },
  {
   "cell_type": "code",
   "execution_count": 5,
   "id": "e307fb96",
   "metadata": {},
   "outputs": [
    {
     "name": "stdout",
     "output_type": "stream",
     "text": [
      "DataFrame original:\n",
      "     Estudiante Nota\n",
      "0  Estudiante_1   B-\n",
      "1  Estudiante_2   A+\n",
      "2  Estudiante_3   B+\n",
      "3  Estudiante_4   D-\n",
      "4  Estudiante_5   B+\n"
     ]
    }
   ],
   "source": [
    "import pandas as pd\n",
    "import numpy as np\n",
    "\n",
    "# Crear un DataFrame con notas aleatorias para 50 estudiantes\n",
    "np.random.seed(0)  # Para la reproducibilidad\n",
    "notas = np.random.choice(['A+', 'A', 'A-', 'B+', 'B', 'B-', 'C+', 'C', 'C-', 'D+', 'D', 'D-'], size=50)\n",
    "df = pd.DataFrame({\n",
    "    'Estudiante': [f'Estudiante_{i+1}' for i in range(50)],\n",
    "    'Nota': notas\n",
    "})\n",
    "\n",
    "print(\"DataFrame original:\")\n",
    "print(df.head())  # Mostrar las primeras 5 filas\n",
    "\n",
    "# Convertir la columna 'Nota' a tipo categórico\n",
    "df['Nota'] = df['Nota'].astype('category')\n",
    "df.dtypes\n",
    "\n",
    "mis_categorias = pd.CategoricalDtype(\n",
    "    categories=['D-', 'D', 'D+', 'C-', 'C', 'C+', 'B-', 'B', 'B+', 'A-', 'A', 'A+'],\n",
    "    ordered=True\n",
    ")\n",
    "\n",
    "df['Nota'] = df['Nota'].astype(mis_categorias)"
   ]
  },
  {
   "cell_type": "markdown",
   "id": "c9042fa9",
   "metadata": {},
   "source": [
    "Importante notar que este orden puesto en la categoria de la columna luego nos servirá para hacer consultas de tipo, dame los alumnos que tenga "
   ]
  }
 ],
 "metadata": {
  "kernelspec": {
   "display_name": "Python 3 (ipykernel)",
   "language": "python",
   "name": "python3"
  },
  "language_info": {
   "codemirror_mode": {
    "name": "ipython",
    "version": 3
   },
   "file_extension": ".py",
   "mimetype": "text/x-python",
   "name": "python",
   "nbconvert_exporter": "python",
   "pygments_lexer": "ipython3",
   "version": "3.11.4"
  }
 },
 "nbformat": 4,
 "nbformat_minor": 5
}
