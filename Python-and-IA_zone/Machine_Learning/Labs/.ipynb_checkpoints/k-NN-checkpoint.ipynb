{
 "cells": [
  {
   "cell_type": "code",
   "execution_count": 25,
   "id": "81ba8fb8",
   "metadata": {},
   "outputs": [
    {
     "data": {
      "text/plain": [
       "'mandarin'"
      ]
     },
     "execution_count": 25,
     "metadata": {},
     "output_type": "execute_result"
    }
   ],
   "source": [
    "# Importa la directiva para que matplotlib se muestre en modo notebook.\n",
    "%matplotlib notebook\n",
    "\n",
    "# Importación de bibliotecas necesarias.\n",
    "# Biblioteca para operaciones matriciales y matemáticas.\n",
    "import numpy as np  \n",
    "\n",
    "# Biblioteca para visualización gráfica.\n",
    "import matplotlib.pyplot as plt \n",
    "\n",
    "# Biblioteca para manipulación de datos.\n",
    "import pandas as pd   \n",
    "\n",
    "# Función para dividir datos en conjuntos de entrenamiento y prueba.\n",
    "from sklearn.model_selection import train_test_split \n",
    "\n",
    "# Lee los datos desde un archivo txt y los almacena en un DataFrame de pandas.\n",
    "fruits = pd.read_table('data/fruit_data_with_colors.txt')\n",
    "\n",
    "# Selecciona las columnas 'mass', 'width', y 'height' para ser las características (X).\n",
    "X = fruits[['mass','width', 'height']]\n",
    "# Selecciona la columna 'fruit_label' como la etiqueta objetivo (y).\n",
    "y = fruits['fruit_label']\n",
    "\n",
    "# Divide los datos en conjuntos de entrenamiento y prueba.\n",
    "# Se utiliza una semilla (random_state) para reproducibilidad.\n",
    "X_train, X_test, y_train, y_test = train_test_split(X, y, random_state=0)\n",
    "\n",
    "# Descripción de las variables después de la división:\n",
    "# X_train -> Datos de entrenamiento.\n",
    "# y_train -> Etiquetas asociadas a los datos de entrenamiento.\n",
    "# X_test -> Datos de prueba.\n",
    "# y_test -> Etiquetas asociadas a los datos de prueba.\n",
    "\n",
    "# Importa el clasificador K-Vecinos más cercanos desde scikit-learn.\n",
    "from sklearn.neighbors import KNeighborsClassifier\n",
    "\n",
    "# Crea un objeto de clasificador con k (número de vecinos) igual a 5.\n",
    "knn = KNeighborsClassifier(n_neighbors = 5)\n",
    "\n",
    "# Entrena el clasificador usando el conjunto de entrenamiento.\n",
    "knn.fit(X_train, y_train)\n",
    "\n",
    "# Evalúa y obtiene la precisión del clasificador en el conjunto de prueba.\n",
    "knn.score(X_test, y_test)\n",
    "\n",
    "new_sample = pd.DataFrame([[20, 4.3, 5.5]], columns=['mass','width', 'height'])\n",
    "\n",
    "fruit_prediction = knn.predict(new_sample)\n",
    "\n",
    "# Como las etiquetas predichas son numeros, para mejorar la legibilidad a nivel\n",
    "# humano, generamos un diccionario de equivalencia numero-nombre de fruta\n",
    "lookup_fruit_name = dict(zip(fruits['fruit_label'].unique(), fruits['fruit_name'].unique()))\n",
    "\n",
    "lookup_fruit_name[fruit_prediction[0]]\n"
   ]
  },
  {
   "cell_type": "code",
   "execution_count": 27,
   "id": "9562cbe4",
   "metadata": {},
   "outputs": [
    {
     "ename": "ModuleNotFoundError",
     "evalue": "No module named 'adspy_shared_utilities'",
     "output_type": "error",
     "traceback": [
      "\u001b[1;31m---------------------------------------------------------------------------\u001b[0m",
      "\u001b[1;31mModuleNotFoundError\u001b[0m                       Traceback (most recent call last)",
      "Cell \u001b[1;32mIn[27], line 1\u001b[0m\n\u001b[1;32m----> 1\u001b[0m \u001b[38;5;28;01mfrom\u001b[39;00m \u001b[38;5;21;01madspy_shared_utilities\u001b[39;00m \u001b[38;5;28;01mimport\u001b[39;00m plot_fruit_knn\n\u001b[0;32m      2\u001b[0m plot_fruit_knn(X_train, y_train, \u001b[38;5;241m5\u001b[39m, \u001b[38;5;124m'\u001b[39m\u001b[38;5;124muniform\u001b[39m\u001b[38;5;124m'\u001b[39m)\n",
      "\u001b[1;31mModuleNotFoundError\u001b[0m: No module named 'adspy_shared_utilities'"
     ]
    }
   ],
   "source": []
  },
  {
   "cell_type": "code",
   "execution_count": null,
   "id": "13d8de4d",
   "metadata": {},
   "outputs": [],
   "source": []
  }
 ],
 "metadata": {
  "kernelspec": {
   "display_name": "Python 3 (ipykernel)",
   "language": "python",
   "name": "python3"
  },
  "language_info": {
   "codemirror_mode": {
    "name": "ipython",
    "version": 3
   },
   "file_extension": ".py",
   "mimetype": "text/x-python",
   "name": "python",
   "nbconvert_exporter": "python",
   "pygments_lexer": "ipython3",
   "version": "3.11.4"
  }
 },
 "nbformat": 4,
 "nbformat_minor": 5
}
